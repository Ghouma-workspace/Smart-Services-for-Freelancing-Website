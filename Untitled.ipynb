{
 "cells": [
  {
   "cell_type": "code",
   "execution_count": 1,
   "id": "ef64afb0",
   "metadata": {},
   "outputs": [],
   "source": [
    "from flask import Flask, request, jsonify\n",
    "import mysql.connector\n",
    "import pandas as pd\n",
    "from sklearn.feature_extraction.text import CountVectorizer\n",
    "from sklearn.metrics.pairwise import cosine_similarity\n",
    "from flask_cors import CORS\n",
    "import cv2\n",
    "from cv2 import destroyAllWindows\n",
    "import numpy as np"
   ]
  },
  {
   "cell_type": "code",
   "execution_count": 2,
   "id": "6041d3c8",
   "metadata": {},
   "outputs": [
    {
     "data": {
      "text/plain": [
       "<flask_cors.extension.CORS at 0x1c3b7bca310>"
      ]
     },
     "execution_count": 2,
     "metadata": {},
     "output_type": "execute_result"
    }
   ],
   "source": [
    "app = Flask(__name__)\n",
    "CORS(app)"
   ]
  },
  {
   "cell_type": "code",
   "execution_count": 3,
   "id": "0ae8c7db",
   "metadata": {},
   "outputs": [],
   "source": [
    "def get_recommendations(input_project):\n",
    "    # establish a database connection\n",
    "    db = mysql.connector.connect(\n",
    "        host=\"localhost\",\n",
    "        user=\"freelancini\",\n",
    "        password=\"freelancini\",\n",
    "        database=\"freelancini\",\n",
    "        auth_plugin=\"mysql_native_password\"\n",
    "    )\n",
    "\n",
    "    # define your SQL query\n",
    "    query = \"SELECT * FROM recommandation\"\n",
    "\n",
    "    # use the pandas read_sql() function to read data from MySQL database\n",
    "    df = pd.read_sql(query, db)\n",
    "\n",
    "    # close the database connection\n",
    "    db.close()\n",
    "    df.duplicated(subset='title').sum()\n",
    "    df = df.drop_duplicates(subset='title')\n",
    "    df['title'] = df['title'].str.lower()\n",
    "    df2 = df.drop(['id','payment','description'],axis=1)\n",
    "    df2.dropna(inplace=True)\n",
    "    df2['data'] = df2[df2.columns[0:]].apply(\n",
    "        lambda x: ' '.join(x.dropna().astype(str)),\n",
    "        axis=1\n",
    "    )\n",
    "\n",
    "    vectorizer = CountVectorizer()\n",
    "    vectorized = vectorizer.fit_transform(df2['data'])\n",
    "\n",
    "    similarities = cosine_similarity(vectorized)\n",
    "    df = pd.DataFrame(similarities, columns=df['title'], index=df['title']).reset_index()\n",
    "    recommendations = pd.DataFrame(df.nlargest(6,input_project)['title'])\n",
    "    recommendations = recommendations[recommendations['title']!=input_project]\n",
    "    return recommendations['title'].tolist()"
   ]
  },
  {
   "cell_type": "code",
   "execution_count": null,
   "id": "a2dbcd38",
   "metadata": {},
   "outputs": [],
   "source": []
  },
  {
   "cell_type": "code",
   "execution_count": 4,
   "id": "3e163994",
   "metadata": {},
   "outputs": [],
   "source": [
    "@app.route('/recommendations')\n",
    "def recommendations():\n",
    "    input_project = request.args.get('project')\n",
    "    input_project.replace(\"%20\", ' ')\n",
    "    recommendations = get_recommendations(input_project)\n",
    "    response = {\n",
    "        'title1': recommendations[0],\n",
    "        'title2': recommendations[1],\n",
    "        'title3': recommendations[2],\n",
    "        'title4': recommendations[3],\n",
    "        'title5': recommendations[4]\n",
    "    }\n",
    "    return jsonify(response)"
   ]
  },
  {
   "cell_type": "code",
   "execution_count": 5,
   "id": "1b125a1c",
   "metadata": {},
   "outputs": [],
   "source": [
    "def verifpic(inputt):\n",
    "    face_cascade = cv2.CascadeClassifier(\"haarcascade_frontalface_default.xml\")\n",
    "    file_bytes = inputt.read()\n",
    "    nparr = np.frombuffer(file_bytes, np.uint8)\n",
    "    image = cv2.imdecode(nparr, cv2.IMREAD_COLOR)\n",
    "    com = image.copy()\n",
    "    gray = cv2.cvtColor(image, cv2.COLOR_BGR2GRAY)\n",
    "    faces = face_cascade.detectMultiScale(gray, scaleFactor=1.1, minNeighbors=5, minSize=(30, 30))\n",
    "    for (x, y, w, h) in faces:\n",
    "        cv2.rectangle(image, (x, y), (x+w, y+h), (0, 0, 255), 2)\n",
    "    cv2.imshow(\"Mon image\", image)\n",
    "    print(\"khedmet\")\n",
    "    if not (com == image).all():\n",
    "        return {'success': True}\n",
    "    else:\n",
    "        return {'success': False}"
   ]
  },
  {
   "cell_type": "code",
   "execution_count": 6,
   "id": "240887f9",
   "metadata": {},
   "outputs": [],
   "source": [
    "@app.route('/verifpic', methods=['POST'])\n",
    "def verify_pic():\n",
    "    # check if the 'file' key exists in the request object\n",
    "    if 'file' not in request.files:\n",
    "        return {'success': False, 'message': 'No file uploaded'}, 400\n",
    "    \n",
    "    file = request.files['file']\n",
    "    \n",
    "    # verify that the file is a valid image file\n",
    "    if file.content_type not in ['image/jpeg', 'image/png', 'image/jpg']:\n",
    "        return {'success': False, 'message': 'Invalid file type'}, 400\n",
    "    return verifpic(file)\n"
   ]
  },
  {
   "cell_type": "code",
   "execution_count": null,
   "id": "92271599",
   "metadata": {},
   "outputs": [
    {
     "name": "stdout",
     "output_type": "stream",
     "text": [
      " * Serving Flask app \"__main__\" (lazy loading)\n",
      " * Environment: production\n",
      "\u001b[31m   WARNING: This is a development server. Do not use it in a production deployment.\u001b[0m\n",
      "\u001b[2m   Use a production WSGI server instead.\u001b[0m\n",
      " * Debug mode: off\n"
     ]
    },
    {
     "name": "stderr",
     "output_type": "stream",
     "text": [
      " * Running on http://127.0.0.1:5000/ (Press CTRL+C to quit)\n",
      "[2023-05-28 12:53:05,511] ERROR in app: Exception on /recommendations [GET]\n",
      "Traceback (most recent call last):\n",
      "  File \"D:\\Anaconda\\lib\\site-packages\\pandas\\core\\indexes\\base.py\", line 3361, in get_loc\n",
      "    return self._engine.get_loc(casted_key)\n",
      "  File \"pandas\\_libs\\index.pyx\", line 76, in pandas._libs.index.IndexEngine.get_loc\n",
      "  File \"pandas\\_libs\\index.pyx\", line 103, in pandas._libs.index.IndexEngine.get_loc\n",
      "  File \"pandas\\_libs\\index.pyx\", line 135, in pandas._libs.index.IndexEngine._get_loc_duplicates\n",
      "  File \"pandas\\_libs\\index.pyx\", line 143, in pandas._libs.index.IndexEngine._maybe_get_bool_indexer\n",
      "  File \"pandas\\_libs\\index.pyx\", line 161, in pandas._libs.index.IndexEngine._unpack_bool_indexer\n",
      "KeyError: 'develloper mon site'\n",
      "\n",
      "The above exception was the direct cause of the following exception:\n",
      "\n",
      "Traceback (most recent call last):\n",
      "  File \"D:\\Anaconda\\lib\\site-packages\\flask\\app.py\", line 2447, in wsgi_app\n",
      "    response = self.full_dispatch_request()\n",
      "  File \"D:\\Anaconda\\lib\\site-packages\\flask\\app.py\", line 1952, in full_dispatch_request\n",
      "    rv = self.handle_user_exception(e)\n",
      "  File \"D:\\Anaconda\\lib\\site-packages\\flask_cors\\extension.py\", line 165, in wrapped_function\n",
      "    return cors_after_request(app.make_response(f(*args, **kwargs)))\n",
      "  File \"D:\\Anaconda\\lib\\site-packages\\flask\\app.py\", line 1821, in handle_user_exception\n",
      "    reraise(exc_type, exc_value, tb)\n",
      "  File \"D:\\Anaconda\\lib\\site-packages\\flask\\_compat.py\", line 39, in reraise\n",
      "    raise value\n",
      "  File \"D:\\Anaconda\\lib\\site-packages\\flask\\app.py\", line 1950, in full_dispatch_request\n",
      "    rv = self.dispatch_request()\n",
      "  File \"D:\\Anaconda\\lib\\site-packages\\flask\\app.py\", line 1936, in dispatch_request\n",
      "    return self.view_functions[rule.endpoint](**req.view_args)\n",
      "  File \"C:\\Users\\DELL\\AppData\\Local\\Temp/ipykernel_9688/777484774.py\", line 5, in recommendations\n",
      "    recommendations = get_recommendations(input_project)\n",
      "  File \"C:\\Users\\DELL\\AppData\\Local\\Temp/ipykernel_9688/3493129305.py\", line 34, in get_recommendations\n",
      "    recommendations = pd.DataFrame(df.nlargest(6,input_project)['title'])\n",
      "  File \"D:\\Anaconda\\lib\\site-packages\\pandas\\core\\frame.py\", line 6636, in nlargest\n",
      "    return algorithms.SelectNFrame(self, n=n, keep=keep, columns=columns).nlargest()\n",
      "  File \"D:\\Anaconda\\lib\\site-packages\\pandas\\core\\algorithms.py\", line 1221, in nlargest\n",
      "    return self.compute(\"nlargest\")\n",
      "  File \"D:\\Anaconda\\lib\\site-packages\\pandas\\core\\algorithms.py\", line 1349, in compute\n",
      "    dtype = frame[column].dtype\n",
      "  File \"D:\\Anaconda\\lib\\site-packages\\pandas\\core\\frame.py\", line 3458, in __getitem__\n",
      "    indexer = self.columns.get_loc(key)\n",
      "  File \"D:\\Anaconda\\lib\\site-packages\\pandas\\core\\indexes\\base.py\", line 3363, in get_loc\n",
      "    raise KeyError(key) from err\n",
      "KeyError: 'develloper mon site'\n",
      "127.0.0.1 - - [28/May/2023 12:53:05] \"GET /recommendations?project=develloper%20mon%20site HTTP/1.1\" 500 -\n",
      "[2023-05-28 12:53:29,056] ERROR in app: Exception on /recommendations [GET]\n",
      "Traceback (most recent call last):\n",
      "  File \"D:\\Anaconda\\lib\\site-packages\\pandas\\core\\indexes\\base.py\", line 3361, in get_loc\n",
      "    return self._engine.get_loc(casted_key)\n",
      "  File \"pandas\\_libs\\index.pyx\", line 76, in pandas._libs.index.IndexEngine.get_loc\n",
      "  File \"pandas\\_libs\\index.pyx\", line 103, in pandas._libs.index.IndexEngine.get_loc\n",
      "  File \"pandas\\_libs\\index.pyx\", line 135, in pandas._libs.index.IndexEngine._get_loc_duplicates\n",
      "  File \"pandas\\_libs\\index.pyx\", line 143, in pandas._libs.index.IndexEngine._maybe_get_bool_indexer\n",
      "  File \"pandas\\_libs\\index.pyx\", line 161, in pandas._libs.index.IndexEngine._unpack_bool_indexer\n",
      "KeyError: 'develloper mon site'\n",
      "\n",
      "The above exception was the direct cause of the following exception:\n",
      "\n",
      "Traceback (most recent call last):\n",
      "  File \"D:\\Anaconda\\lib\\site-packages\\flask\\app.py\", line 2447, in wsgi_app\n",
      "    response = self.full_dispatch_request()\n",
      "  File \"D:\\Anaconda\\lib\\site-packages\\flask\\app.py\", line 1952, in full_dispatch_request\n",
      "    rv = self.handle_user_exception(e)\n",
      "  File \"D:\\Anaconda\\lib\\site-packages\\flask_cors\\extension.py\", line 165, in wrapped_function\n",
      "    return cors_after_request(app.make_response(f(*args, **kwargs)))\n",
      "  File \"D:\\Anaconda\\lib\\site-packages\\flask\\app.py\", line 1821, in handle_user_exception\n",
      "    reraise(exc_type, exc_value, tb)\n",
      "  File \"D:\\Anaconda\\lib\\site-packages\\flask\\_compat.py\", line 39, in reraise\n",
      "    raise value\n",
      "  File \"D:\\Anaconda\\lib\\site-packages\\flask\\app.py\", line 1950, in full_dispatch_request\n",
      "    rv = self.dispatch_request()\n",
      "  File \"D:\\Anaconda\\lib\\site-packages\\flask\\app.py\", line 1936, in dispatch_request\n",
      "    return self.view_functions[rule.endpoint](**req.view_args)\n",
      "  File \"C:\\Users\\DELL\\AppData\\Local\\Temp/ipykernel_9688/777484774.py\", line 5, in recommendations\n",
      "    recommendations = get_recommendations(input_project)\n",
      "  File \"C:\\Users\\DELL\\AppData\\Local\\Temp/ipykernel_9688/3493129305.py\", line 34, in get_recommendations\n",
      "    recommendations = pd.DataFrame(df.nlargest(6,input_project)['title'])\n",
      "  File \"D:\\Anaconda\\lib\\site-packages\\pandas\\core\\frame.py\", line 6636, in nlargest\n",
      "    return algorithms.SelectNFrame(self, n=n, keep=keep, columns=columns).nlargest()\n",
      "  File \"D:\\Anaconda\\lib\\site-packages\\pandas\\core\\algorithms.py\", line 1221, in nlargest\n",
      "    return self.compute(\"nlargest\")\n",
      "  File \"D:\\Anaconda\\lib\\site-packages\\pandas\\core\\algorithms.py\", line 1349, in compute\n",
      "    dtype = frame[column].dtype\n",
      "  File \"D:\\Anaconda\\lib\\site-packages\\pandas\\core\\frame.py\", line 3458, in __getitem__\n",
      "    indexer = self.columns.get_loc(key)\n",
      "  File \"D:\\Anaconda\\lib\\site-packages\\pandas\\core\\indexes\\base.py\", line 3363, in get_loc\n",
      "    raise KeyError(key) from err\n",
      "KeyError: 'develloper mon site'\n",
      "127.0.0.1 - - [28/May/2023 12:53:29] \"GET /recommendations?project=develloper%20mon%20site HTTP/1.1\" 500 -\n",
      "127.0.0.1 - - [28/May/2023 12:53:40] \"GET /recommendations?project=création%20de%20logo%20professionnel HTTP/1.1\" 200 -\n",
      "127.0.0.1 - - [28/May/2023 12:53:53] \"GET /recommendations?project=comptabilite HTTP/1.1\" 200 -\n",
      "127.0.0.1 - - [28/May/2023 12:54:35] \"POST /verifpic HTTP/1.1\" 200 -\n"
     ]
    },
    {
     "name": "stdout",
     "output_type": "stream",
     "text": [
      "khedmet\n"
     ]
    }
   ],
   "source": [
    "if __name__ == '__main__':\n",
    "    app.run()"
   ]
  },
  {
   "cell_type": "code",
   "execution_count": null,
   "id": "d7426711",
   "metadata": {},
   "outputs": [],
   "source": []
  },
  {
   "cell_type": "code",
   "execution_count": null,
   "id": "a2e4b414",
   "metadata": {},
   "outputs": [],
   "source": []
  }
 ],
 "metadata": {
  "kernelspec": {
   "display_name": "Python 3 (ipykernel)",
   "language": "python",
   "name": "python3"
  },
  "language_info": {
   "codemirror_mode": {
    "name": "ipython",
    "version": 3
   },
   "file_extension": ".py",
   "mimetype": "text/x-python",
   "name": "python",
   "nbconvert_exporter": "python",
   "pygments_lexer": "ipython3",
   "version": "3.9.7"
  }
 },
 "nbformat": 4,
 "nbformat_minor": 5
}
